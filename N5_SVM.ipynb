{
 "cells": [
  {
   "cell_type": "code",
   "execution_count": 6,
   "metadata": {},
   "outputs": [],
   "source": [
    "import numpy as np\n",
    "from sklearn.model_selection import train_test_split, cross_val_score\n",
    "from sklearn.neighbors import KNeighborsClassifier\n",
    "from sklearn.metrics import accuracy_score\n",
    "import matplotlib.pyplot as plt\n",
    "import joblib\n",
    "from joblib import dump\n",
    "import cv2\n",
    "import pandas as pd\n",
    "from sklearn.decomposition import PCA\n",
    "from sklearn.svm import SVC"
   ]
  },
  {
   "cell_type": "code",
   "execution_count": 7,
   "metadata": {},
   "outputs": [],
   "source": [
    "data_path = './data_hand_writing/'\n",
    "data_training = np.load(data_path + 'data_train.npz')\n",
    "\n",
    "images = data_training['images']\n",
    "labels = data_training['labels']\n",
    "\n",
    "images_train, images_val, labels_train, labels_val = train_test_split(images, labels, test_size=0.2, random_state=42)"
   ]
  },
  {
   "cell_type": "code",
   "execution_count": 8,
   "metadata": {},
   "outputs": [],
   "source": [
    "pca = PCA(n_components=64, random_state=0)\n",
    "images_train_pca = pca.fit_transform(images_train)\n",
    "images_val_pca = pca.transform(images_val)\n",
    "images_pca = pca.transform(images)"
   ]
  },
  {
   "cell_type": "code",
   "execution_count": 9,
   "metadata": {},
   "outputs": [
    {
     "name": "stdout",
     "output_type": "stream",
     "text": [
      "Accuracy on test set: 0.9082177161152615\n",
      "Cross-validation accuracy: 0.9833401745888406\n"
     ]
    }
   ],
   "source": [
    "svm_model = SVC(kernel='linear', C=1.0, random_state=42)\n",
    "svm_model.fit(images_train, labels_train)\n",
    "y_pred = svm_model.predict(images_val)\n",
    "accuracy = accuracy_score(labels_val, y_pred)\n",
    "print(f'Accuracy on test set: {accuracy}')\n",
    "cross_val_accuracy = cross_val_score(svm_model, images, labels, cv=5)\n",
    "print(f'Cross-validation accuracy: {cross_val_accuracy.mean()}')"
   ]
  },
  {
   "cell_type": "code",
   "execution_count": 10,
   "metadata": {},
   "outputs": [
    {
     "name": "stdout",
     "output_type": "stream",
     "text": [
      "Accuracy on test set: 0.9146211312700107\n",
      "Cross-validation accuracy: 0.983768437183592\n"
     ]
    },
    {
     "data": {
      "text/plain": [
       "['./data_hand_writing/svm_model.joblib']"
      ]
     },
     "execution_count": 10,
     "metadata": {},
     "output_type": "execute_result"
    }
   ],
   "source": [
    "svm_model2 = SVC(kernel='linear', C=1.0, random_state=42)\n",
    "svm_model2.fit(images_train_pca, labels_train)\n",
    "y_pred = svm_model2.predict(images_val_pca)\n",
    "accuracy = accuracy_score(labels_val, y_pred)\n",
    "print(f'Accuracy on test set: {accuracy}')\n",
    "cross_val_accuracy = cross_val_score(svm_model2, images_pca, labels, cv=5)\n",
    "print(f'Cross-validation accuracy: {cross_val_accuracy.mean()}')\n",
    "dump(svm_model2, data_path + 'svm_model.joblib')"
   ]
  },
  {
   "cell_type": "code",
   "execution_count": 11,
   "metadata": {},
   "outputs": [
    {
     "name": "stdout",
     "output_type": "stream",
     "text": [
      "{1: 'U+4E00', 2: 'U+4E07', 3: 'U+4E0B', 4: 'U+4E8C', 5: 'U+4ECA', 6: 'U+56DB', 7: 'U+5973', 8: 'U+5B66', 9: 'U+5B89', 10: 'U+5C71', 11: 'U+5DE6', 12: 'U+5E74', 13: 'U+5E97', 14: 'U+5F8C', 15: 'U+624B', 16: 'U+65B0', 17: 'U+65E5', 18: 'U+66F8', 19: 'U+6765', 20: 'U+6BCD', 21: 'U+6BCE', 22: 'U+6C34', 23: 'U+706B', 24: 'U+767E', 25: 'U+793E', 26: 'U+7A7A', 27: 'U+8033', 28: 'U+82B1', 29: 'U+884C', 30: 'U+897F', 31: 'U+898B', 32: 'U+8A00', 33: 'U+8A9E', 34: 'U+8AAD', 35: 'U+8CB7', 36: 'U+8ECA', 37: 'U+9053', 38: 'U+9577', 39: 'U+9593', 40: 'U+96E8', 41: 'U+96FB', 42: 'U+98DF', 43: 'U+98F2', 44: 'U+99C5', 45: 'U+9AD8', 46: 'U+9B5A'}\n"
     ]
    }
   ],
   "source": [
    "def process_image(img_path):\n",
    "    img = cv2.imread(img_path, cv2.IMREAD_GRAYSCALE)\n",
    "\n",
    "    if img is not None:\n",
    "        img_resized = cv2.resize(img, (28, 28))\n",
    "        _, optimal_thresh = cv2.threshold(img_resized, 0, 255, cv2.THRESH_BINARY + cv2.THRESH_OTSU)\n",
    "\n",
    "        # cv2.imshow('image', optimal_thresh)\n",
    "        # cv2.waitKey(0)  # Đợi cho đến khi một phím được nhấn\n",
    "        # cv2.destroyAllWindows()\n",
    "\n",
    "        return optimal_thresh.flatten()\n",
    "    \n",
    "label_unicode_path = data_path + \"label_unicode.csv\"\n",
    "\n",
    "data = pd.read_csv(label_unicode_path)\n",
    "label_unicode_dict = pd.Series(data.Unicode.values, index=data.Label).to_dict()\n",
    "\n",
    "print(label_unicode_dict)"
   ]
  },
  {
   "cell_type": "code",
   "execution_count": 18,
   "metadata": {},
   "outputs": [
    {
     "name": "stdout",
     "output_type": "stream",
     "text": [
      "[43] U+98F2 飲\n"
     ]
    }
   ],
   "source": [
    "path = './test_image/6.jpg'\n",
    "\n",
    "img = process_image(path)\n",
    "img = pca.transform([img])\n",
    "\n",
    "predict = svm_model2.predict(img)\n",
    "print(predict, label_unicode_dict[predict[0]], chr(int(label_unicode_dict[predict[0]][2:], 16)))\n",
    "\n",
    "image_path = cv2.imread(path)\n",
    "cv2.imshow('image', image_path)\n",
    "cv2.waitKey(0) \n",
    "cv2.destroyAllWindows()"
   ]
  }
 ],
 "metadata": {
  "kernelspec": {
   "display_name": "base",
   "language": "python",
   "name": "python3"
  },
  "language_info": {
   "codemirror_mode": {
    "name": "ipython",
    "version": 3
   },
   "file_extension": ".py",
   "mimetype": "text/x-python",
   "name": "python",
   "nbconvert_exporter": "python",
   "pygments_lexer": "ipython3",
   "version": "3.11.1"
  }
 },
 "nbformat": 4,
 "nbformat_minor": 2
}
